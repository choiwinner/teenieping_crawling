{
 "cells": [
  {
   "cell_type": "code",
   "execution_count": 1,
   "metadata": {},
   "outputs": [],
   "source": [
    "# 참고 : https://www.youtube.com/watch?v=HJcrD7Ukli4&t=911s\n",
    "# 티니핑 게임 개발을 위한 크롤링 코드\n",
    "# source code\n",
    "from bs4 import BeautifulSoup as bs\n",
    "import requests\n",
    "import dload\n",
    "import os\n",
    "import pandas as pd\n",
    "import time"
   ]
  },
  {
   "cell_type": "code",
   "execution_count": 2,
   "metadata": {},
   "outputs": [
    {
     "data": {
      "text/plain": [
       "200"
      ]
     },
     "execution_count": 2,
     "metadata": {},
     "output_type": "execute_result"
    }
   ],
   "source": [
    "headers = {'User-Agent': 'Mozilla/5.0'} ##헤더 추가: User-Agent 헤더를 추가하여 요청을 보다 정상적으로 보이게 할 수 있습니다\n",
    "html = requests.get(f'https://m.blog.naver.com/cecil122222/223355906005',headers=headers) \n",
    "soup = bs(html.text, 'html.parser')\n",
    "html.status_code"
   ]
  },
  {
   "cell_type": "code",
   "execution_count": 3,
   "metadata": {},
   "outputs": [],
   "source": [
    "#방법1"
   ]
  },
  {
   "cell_type": "code",
   "execution_count": 4,
   "metadata": {},
   "outputs": [],
   "source": [
    "# '#id이름', '.class이름'\n",
    "a = soup.select('div.se-module.se-module-text.se-caption') # 3개 class 동시 적용 선택(div.se-module,se-module-text,se-caption)"
   ]
  },
  {
   "cell_type": "code",
   "execution_count": 5,
   "metadata": {},
   "outputs": [
    {
     "data": {
      "text/plain": [
       "110"
      ]
     },
     "execution_count": 5,
     "metadata": {},
     "output_type": "execute_result"
    }
   ],
   "source": [
    "len(a)"
   ]
  },
  {
   "cell_type": "code",
   "execution_count": 6,
   "metadata": {},
   "outputs": [
    {
     "data": {
      "text/plain": [
       "<div class=\"se-module se-module-text se-caption\"><p class=\"se-text-paragraph se-text-paragraph-align-center\" id=\"SE-7730E9DC-2C4A-4574-AFE8-40AD34268E36\" style=\"\"><span class=\"se-fs- se-ff-\" id=\"SE-A8D2BFCC-F6CD-484C-8431-26D38F4011E0\" style=\"\">뿌뿌핑</span></p></div>"
      ]
     },
     "execution_count": 6,
     "metadata": {},
     "output_type": "execute_result"
    }
   ],
   "source": [
    "a[-1]"
   ]
  },
  {
   "cell_type": "code",
   "execution_count": 7,
   "metadata": {},
   "outputs": [],
   "source": [
    "b = soup.select('div.se-component-content div.se-section.se-section-text.se-l-default div.se-module.se-module-text p.se-text-paragraph.se-text-paragraph-align-center span.se-fs-.se-ff-')"
   ]
  },
  {
   "cell_type": "code",
   "execution_count": 8,
   "metadata": {},
   "outputs": [
    {
     "data": {
      "text/plain": [
       "923"
      ]
     },
     "execution_count": 8,
     "metadata": {},
     "output_type": "execute_result"
    }
   ],
   "source": [
    "len(b)"
   ]
  },
  {
   "cell_type": "code",
   "execution_count": 9,
   "metadata": {},
   "outputs": [
    {
     "data": {
      "text/plain": [
       "<span class=\"se-fs- se-ff-\" id=\"SE-7BD1C2B2-B41F-4BA8-80DF-D86E7BBC5159\" style=\"\">성별: 여성</span>"
      ]
     },
     "execution_count": 9,
     "metadata": {},
     "output_type": "execute_result"
    }
   ],
   "source": [
    "b[3]"
   ]
  },
  {
   "cell_type": "code",
   "execution_count": 10,
   "metadata": {},
   "outputs": [],
   "source": [
    "#방법 #2"
   ]
  },
  {
   "cell_type": "code",
   "execution_count": 11,
   "metadata": {},
   "outputs": [],
   "source": [
    "a = soup.find_all('span',{'class' : 'se-fs- se-ff-'}) #tag 'span' 중 class 이름이 'se-fs- se-ff-'인 부분 모두 찾기"
   ]
  },
  {
   "cell_type": "code",
   "execution_count": 12,
   "metadata": {},
   "outputs": [],
   "source": [
    "#찾은 부분 중 text만 추출후 text가 10글자이하 & 글자끝이 '핑'으로 끝나는 것만 리스트로 저장\n",
    "list = []\n",
    "for text in a:\n",
    "    if (len(text.get_text())<10) and (text.get_text()[-1]=='핑'):\n",
    "        list.append(text.get_text())"
   ]
  },
  {
   "cell_type": "code",
   "execution_count": 13,
   "metadata": {},
   "outputs": [
    {
     "data": {
      "text/plain": [
       "['하츄핑',\n",
       " '하츄핑',\n",
       " '바로핑',\n",
       " '바로핑',\n",
       " '아자핑',\n",
       " '아자핑',\n",
       " '차차핑',\n",
       " '차차핑',\n",
       " '라라핑',\n",
       " '라라핑',\n",
       " '해핑',\n",
       " '해핑',\n",
       " '다이아 하츄핑',\n",
       " '다이아 하츄핑',\n",
       " '믿어핑',\n",
       " '믿어핑',\n",
       " '조아핑',\n",
       " '조아핑',\n",
       " '방글핑',\n",
       " '방글핑',\n",
       " '플로라 하츄핑',\n",
       " '플로라 하츄핑',\n",
       " '꾸래핑',\n",
       " '꾸래핑',\n",
       " '나나핑',\n",
       " '나나핑',\n",
       " '솔찌핑',\n",
       " '솔찌핑',\n",
       " '베리 하츄핑',\n",
       " '베리 하츄핑',\n",
       " '샤샤핑',\n",
       " '샤샤핑',\n",
       " '포실핑',\n",
       " '포실핑',\n",
       " '말랑핑',\n",
       " '말랑핑',\n",
       " '행운핑',\n",
       " '행운핑',\n",
       " '새콤핑',\n",
       " '새콤핑',\n",
       " '달콤핑',\n",
       " '달콤핑',\n",
       " '키키핑',\n",
       " '키키핑',\n",
       " '아잉핑',\n",
       " '아잉핑',\n",
       " '부끄핑',\n",
       " '부끄핑',\n",
       " '부투핑',\n",
       " '부투핑',\n",
       " '깜빡핑',\n",
       " '깜빡핑',\n",
       " '띠용핑',\n",
       " '띠용핑',\n",
       " '주르핑',\n",
       " '주르핑',\n",
       " '차나핑',\n",
       " '차나핑',\n",
       " '따라핑',\n",
       " '따라핑',\n",
       " '나르핑',\n",
       " '나르핑',\n",
       " '무셔핑',\n",
       " '무셔핑',\n",
       " '투투핑',\n",
       " '투투핑',\n",
       " '차캐핑',\n",
       " '차캐핑',\n",
       " '떠벌핑',\n",
       " '떠벌핑',\n",
       " '다조핑',\n",
       " '다조핑',\n",
       " '화나핑',\n",
       " '화나핑',\n",
       " '시러핑',\n",
       " '시러핑',\n",
       " '바네핑',\n",
       " '바네핑',\n",
       " '덜덜핑',\n",
       " '덜덜핑',\n",
       " '그림핑',\n",
       " '그림핑',\n",
       " '무거핑',\n",
       " '무거핑',\n",
       " '꺼꿀핑',\n",
       " '꺼꿀핑',\n",
       " '씽씽핑',\n",
       " '씽씽핑',\n",
       " '베베핑',\n",
       " '베베핑',\n",
       " '코자핑',\n",
       " '코자핑',\n",
       " '딱풀핑',\n",
       " '딱풀핑',\n",
       " '모야핑',\n",
       " '모야핑',\n",
       " '토이핑',\n",
       " '토이핑',\n",
       " '또까핑',\n",
       " '또까핑',\n",
       " '플라핑',\n",
       " '플라핑',\n",
       " '노라핑',\n",
       " '노라핑',\n",
       " '노리핑',\n",
       " '노리핑',\n",
       " '아휴핑',\n",
       " '아휴핑',\n",
       " '똑똑핑',\n",
       " '똑똑핑',\n",
       " '꽁꽁핑',\n",
       " '꽁꽁핑',\n",
       " '찌릿핑',\n",
       " '찌릿핑',\n",
       " '홀로핑',\n",
       " '홀로핑',\n",
       " '까르핑',\n",
       " '까르핑',\n",
       " '아야핑',\n",
       " '아야핑',\n",
       " '소원핑',\n",
       " '소원핑',\n",
       " '토닥핑',\n",
       " '토닥핑',\n",
       " '쪼꼼핑',\n",
       " '쪼꼼핑',\n",
       " '싹싹핑',\n",
       " '싹싹핑',\n",
       " '맛나핑',\n",
       " '맛나핑',\n",
       " '포근핑',\n",
       " '포근핑',\n",
       " '메모핑',\n",
       " '메모핑',\n",
       " '공쥬핑',\n",
       " '공쥬핑',\n",
       " '짝짝핑',\n",
       " '짝짝핑',\n",
       " '주네핑',\n",
       " '주네핑',\n",
       " '뚝딱핑',\n",
       " '뚝딱핑',\n",
       " '발레핑',\n",
       " '발레핑',\n",
       " '원더핑',\n",
       " '원더핑',\n",
       " '빨리핑',\n",
       " '빨리핑',\n",
       " '얌얌핑',\n",
       " '얌얌핑',\n",
       " '뜨거핑',\n",
       " '뜨거핑',\n",
       " '삐뽀핑',\n",
       " '삐뽀핑',\n",
       " '간호핑',\n",
       " '간호핑',\n",
       " '힘내핑',\n",
       " '힘내핑',\n",
       " '고쳐핑',\n",
       " '고쳐핑',\n",
       " '아라핑',\n",
       " '아라핑',\n",
       " '패션핑',\n",
       " '패션핑',\n",
       " '꼼딱핑',\n",
       " '꼼딱핑',\n",
       " '퐁당핑',\n",
       " '퐁당핑',\n",
       " '파티핑',\n",
       " '파티핑',\n",
       " '꾸며핑',\n",
       " '꾸며핑',\n",
       " '삐짐핑',\n",
       " '삐짐핑',\n",
       " '아아핑',\n",
       " '아아핑',\n",
       " '빙글핑',\n",
       " '빙글핑',\n",
       " '캔디핑',\n",
       " '캔디핑',\n",
       " '머랭핑',\n",
       " '머랭핑',\n",
       " '샌드핑',\n",
       " '샌드핑',\n",
       " '또너핑',\n",
       " '또너핑',\n",
       " '와플핑',\n",
       " '와플핑',\n",
       " '롤리핑',\n",
       " '롤리핑',\n",
       " '마카핑',\n",
       " '마카핑',\n",
       " '핫케핑',\n",
       " '핫케핑',\n",
       " '커핑',\n",
       " '커핑',\n",
       " '머핑',\n",
       " '머핑',\n",
       " '요거핑',\n",
       " '요거핑',\n",
       " '눈꽃핑',\n",
       " '눈꽃핑',\n",
       " '푸딩핑',\n",
       " '푸딩핑',\n",
       " '멜로핑',\n",
       " '멜로핑',\n",
       " '쪼꼬핑',\n",
       " '쪼꼬핑',\n",
       " '뿌뿌핑',\n",
       " '뿌뿌핑',\n",
       " '악동핑',\n",
       " '악동핑',\n",
       " '앙대핑',\n",
       " '앙대핑',\n",
       " '가면핑',\n",
       " '가면핑',\n",
       " '다해핑',\n",
       " '다해핑',\n",
       " '뿌뿌핑',\n",
       " '뿌뿌핑',\n",
       " '트러핑',\n",
       " '스타 하츄핑',\n",
       " '빛나핑',\n",
       " '초롱핑',\n",
       " '빤짝핑',\n",
       " '왕자핑',\n",
       " '오로라핑',\n",
       " '나눔핑',\n",
       " '뽀뽀핑',\n",
       " '루루핑',\n",
       " '댄스핑',\n",
       " '유리핑',\n",
       " '몰래핑',\n",
       " '함께핑',\n",
       " '고핑',\n",
       " '훌라핑',\n",
       " '뿌쵸핑',\n",
       " '여우핑',\n",
       " '깡총핑',\n",
       " '뽀송핑',\n",
       " '고마핑',\n",
       " '아롱핑',\n",
       " '다롱핑',\n",
       " '딩동핑',\n",
       " '나그네핑']"
      ]
     },
     "execution_count": 13,
     "metadata": {},
     "output_type": "execute_result"
    }
   ],
   "source": [
    "list"
   ]
  },
  {
   "cell_type": "code",
   "execution_count": 78,
   "metadata": {},
   "outputs": [
    {
     "data": {
      "text/plain": [
       "['트러핑',\n",
       " '스타 하츄핑',\n",
       " '빛나핑',\n",
       " '초롱핑',\n",
       " '빤짝핑',\n",
       " '왕자핑',\n",
       " '오로라핑',\n",
       " '나눔핑',\n",
       " '뽀뽀핑',\n",
       " '루루핑',\n",
       " '댄스핑',\n",
       " '유리핑',\n",
       " '몰래핑',\n",
       " '함께핑',\n",
       " '고핑',\n",
       " '훌라핑',\n",
       " '뿌쵸핑',\n",
       " '여우핑',\n",
       " '깡총핑',\n",
       " '뽀송핑',\n",
       " '고마핑',\n",
       " '아롱핑',\n",
       " '다롱핑',\n",
       " '딩동핑',\n",
       " '나그네핑']"
      ]
     },
     "execution_count": 78,
     "metadata": {},
     "output_type": "execute_result"
    }
   ],
   "source": [
    "list[-25:]  #중복이 아닌 하츄핑 이름"
   ]
  },
  {
   "cell_type": "code",
   "execution_count": 14,
   "metadata": {},
   "outputs": [
    {
     "data": {
      "text/plain": [
       "['하츄핑',\n",
       " '하츄핑',\n",
       " '바로핑',\n",
       " '바로핑',\n",
       " '아자핑',\n",
       " '아자핑',\n",
       " '차차핑',\n",
       " '차차핑',\n",
       " '라라핑',\n",
       " '라라핑',\n",
       " '해핑',\n",
       " '해핑',\n",
       " '다이아 하츄핑',\n",
       " '다이아 하츄핑',\n",
       " '믿어핑',\n",
       " '믿어핑',\n",
       " '조아핑',\n",
       " '조아핑',\n",
       " '방글핑',\n",
       " '방글핑',\n",
       " '플로라 하츄핑',\n",
       " '플로라 하츄핑',\n",
       " '꾸래핑',\n",
       " '꾸래핑',\n",
       " '나나핑',\n",
       " '나나핑',\n",
       " '솔찌핑',\n",
       " '솔찌핑',\n",
       " '베리 하츄핑',\n",
       " '베리 하츄핑',\n",
       " '샤샤핑',\n",
       " '샤샤핑',\n",
       " '포실핑',\n",
       " '포실핑',\n",
       " '말랑핑',\n",
       " '말랑핑',\n",
       " '행운핑',\n",
       " '행운핑',\n",
       " '새콤핑',\n",
       " '새콤핑',\n",
       " '달콤핑',\n",
       " '달콤핑',\n",
       " '키키핑',\n",
       " '키키핑',\n",
       " '아잉핑',\n",
       " '아잉핑',\n",
       " '부끄핑',\n",
       " '부끄핑',\n",
       " '부투핑',\n",
       " '부투핑',\n",
       " '깜빡핑',\n",
       " '깜빡핑',\n",
       " '띠용핑',\n",
       " '띠용핑',\n",
       " '주르핑',\n",
       " '주르핑',\n",
       " '차나핑',\n",
       " '차나핑',\n",
       " '따라핑',\n",
       " '따라핑',\n",
       " '나르핑',\n",
       " '나르핑',\n",
       " '무셔핑',\n",
       " '무셔핑',\n",
       " '투투핑',\n",
       " '투투핑',\n",
       " '차캐핑',\n",
       " '차캐핑',\n",
       " '떠벌핑',\n",
       " '떠벌핑',\n",
       " '다조핑',\n",
       " '다조핑',\n",
       " '화나핑',\n",
       " '화나핑',\n",
       " '시러핑',\n",
       " '시러핑',\n",
       " '바네핑',\n",
       " '바네핑',\n",
       " '덜덜핑',\n",
       " '덜덜핑',\n",
       " '그림핑',\n",
       " '그림핑',\n",
       " '무거핑',\n",
       " '무거핑',\n",
       " '꺼꿀핑',\n",
       " '꺼꿀핑',\n",
       " '씽씽핑',\n",
       " '씽씽핑',\n",
       " '베베핑',\n",
       " '베베핑',\n",
       " '코자핑',\n",
       " '코자핑',\n",
       " '딱풀핑',\n",
       " '딱풀핑',\n",
       " '모야핑',\n",
       " '모야핑',\n",
       " '토이핑',\n",
       " '토이핑',\n",
       " '또까핑',\n",
       " '또까핑',\n",
       " '플라핑',\n",
       " '플라핑',\n",
       " '노라핑',\n",
       " '노라핑',\n",
       " '노리핑',\n",
       " '노리핑',\n",
       " '아휴핑',\n",
       " '아휴핑',\n",
       " '똑똑핑',\n",
       " '똑똑핑',\n",
       " '꽁꽁핑',\n",
       " '꽁꽁핑',\n",
       " '찌릿핑',\n",
       " '찌릿핑',\n",
       " '홀로핑',\n",
       " '홀로핑',\n",
       " '까르핑',\n",
       " '까르핑',\n",
       " '아야핑',\n",
       " '아야핑',\n",
       " '소원핑',\n",
       " '소원핑',\n",
       " '토닥핑',\n",
       " '토닥핑',\n",
       " '쪼꼼핑',\n",
       " '쪼꼼핑',\n",
       " '싹싹핑',\n",
       " '싹싹핑',\n",
       " '맛나핑',\n",
       " '맛나핑',\n",
       " '포근핑',\n",
       " '포근핑',\n",
       " '메모핑',\n",
       " '메모핑',\n",
       " '공쥬핑',\n",
       " '공쥬핑',\n",
       " '짝짝핑',\n",
       " '짝짝핑',\n",
       " '주네핑',\n",
       " '주네핑',\n",
       " '뚝딱핑',\n",
       " '뚝딱핑',\n",
       " '발레핑',\n",
       " '발레핑',\n",
       " '원더핑',\n",
       " '원더핑',\n",
       " '빨리핑',\n",
       " '빨리핑',\n",
       " '얌얌핑',\n",
       " '얌얌핑',\n",
       " '뜨거핑',\n",
       " '뜨거핑',\n",
       " '삐뽀핑',\n",
       " '삐뽀핑',\n",
       " '간호핑',\n",
       " '간호핑',\n",
       " '힘내핑',\n",
       " '힘내핑',\n",
       " '고쳐핑',\n",
       " '고쳐핑',\n",
       " '아라핑',\n",
       " '아라핑',\n",
       " '패션핑',\n",
       " '패션핑',\n",
       " '꼼딱핑',\n",
       " '꼼딱핑',\n",
       " '퐁당핑',\n",
       " '퐁당핑',\n",
       " '파티핑',\n",
       " '파티핑',\n",
       " '꾸며핑',\n",
       " '꾸며핑',\n",
       " '삐짐핑',\n",
       " '삐짐핑',\n",
       " '아아핑',\n",
       " '아아핑',\n",
       " '빙글핑',\n",
       " '빙글핑',\n",
       " '캔디핑',\n",
       " '캔디핑',\n",
       " '머랭핑',\n",
       " '머랭핑',\n",
       " '샌드핑',\n",
       " '샌드핑',\n",
       " '또너핑',\n",
       " '또너핑',\n",
       " '와플핑',\n",
       " '와플핑',\n",
       " '롤리핑',\n",
       " '롤리핑',\n",
       " '마카핑',\n",
       " '마카핑',\n",
       " '핫케핑',\n",
       " '핫케핑',\n",
       " '커핑',\n",
       " '커핑',\n",
       " '머핑',\n",
       " '머핑',\n",
       " '요거핑',\n",
       " '요거핑',\n",
       " '눈꽃핑',\n",
       " '눈꽃핑',\n",
       " '푸딩핑',\n",
       " '푸딩핑',\n",
       " '멜로핑',\n",
       " '멜로핑',\n",
       " '쪼꼬핑',\n",
       " '쪼꼬핑',\n",
       " '뿌뿌핑',\n",
       " '뿌뿌핑',\n",
       " '악동핑',\n",
       " '악동핑',\n",
       " '앙대핑',\n",
       " '앙대핑',\n",
       " '가면핑',\n",
       " '가면핑',\n",
       " '다해핑',\n",
       " '다해핑',\n",
       " '뿌뿌핑',\n",
       " '뿌뿌핑']"
      ]
     },
     "execution_count": 14,
     "metadata": {},
     "output_type": "execute_result"
    }
   ],
   "source": [
    "list[0:-25] #2개씩 중복인 하츄핑 이름"
   ]
  },
  {
   "cell_type": "code",
   "execution_count": 15,
   "metadata": {},
   "outputs": [
    {
     "data": {
      "text/plain": [
       "220"
      ]
     },
     "execution_count": 15,
     "metadata": {},
     "output_type": "execute_result"
    }
   ],
   "source": [
    "len(list[0:-25])"
   ]
  },
  {
   "cell_type": "code",
   "execution_count": 16,
   "metadata": {},
   "outputs": [],
   "source": [
    "#2개씩 중복인 이름 삭제 : set을 사용시 list내 순서가 바뀌어 안된다.\n",
    "new_list_1 = []\n",
    "for index,i in enumerate(list[0:-25]):\n",
    "    if (index%2==0):\n",
    "        new_list_1.append(i)"
   ]
  },
  {
   "cell_type": "code",
   "execution_count": 17,
   "metadata": {},
   "outputs": [
    {
     "data": {
      "text/plain": [
       "110"
      ]
     },
     "execution_count": 17,
     "metadata": {},
     "output_type": "execute_result"
    }
   ],
   "source": [
    "len(new_list_1)"
   ]
  },
  {
   "cell_type": "code",
   "execution_count": 18,
   "metadata": {},
   "outputs": [],
   "source": [
    "#비중복끼리 합치기\n",
    "new_list = new_list_1 + list[-25:]"
   ]
  },
  {
   "cell_type": "code",
   "execution_count": 19,
   "metadata": {},
   "outputs": [
    {
     "data": {
      "text/plain": [
       "135"
      ]
     },
     "execution_count": 19,
     "metadata": {},
     "output_type": "execute_result"
    }
   ],
   "source": [
    "len(new_list)"
   ]
  },
  {
   "cell_type": "code",
   "execution_count": 20,
   "metadata": {},
   "outputs": [
    {
     "data": {
      "text/plain": [
       "['하츄핑',\n",
       " '바로핑',\n",
       " '아자핑',\n",
       " '차차핑',\n",
       " '라라핑',\n",
       " '해핑',\n",
       " '다이아 하츄핑',\n",
       " '믿어핑',\n",
       " '조아핑',\n",
       " '방글핑',\n",
       " '플로라 하츄핑',\n",
       " '꾸래핑',\n",
       " '나나핑',\n",
       " '솔찌핑',\n",
       " '베리 하츄핑',\n",
       " '샤샤핑',\n",
       " '포실핑',\n",
       " '말랑핑',\n",
       " '행운핑',\n",
       " '새콤핑',\n",
       " '달콤핑',\n",
       " '키키핑',\n",
       " '아잉핑',\n",
       " '부끄핑',\n",
       " '부투핑',\n",
       " '깜빡핑',\n",
       " '띠용핑',\n",
       " '주르핑',\n",
       " '차나핑',\n",
       " '따라핑',\n",
       " '나르핑',\n",
       " '무셔핑',\n",
       " '투투핑',\n",
       " '차캐핑',\n",
       " '떠벌핑',\n",
       " '다조핑',\n",
       " '화나핑',\n",
       " '시러핑',\n",
       " '바네핑',\n",
       " '덜덜핑',\n",
       " '그림핑',\n",
       " '무거핑',\n",
       " '꺼꿀핑',\n",
       " '씽씽핑',\n",
       " '베베핑',\n",
       " '코자핑',\n",
       " '딱풀핑',\n",
       " '모야핑',\n",
       " '토이핑',\n",
       " '또까핑',\n",
       " '플라핑',\n",
       " '노라핑',\n",
       " '노리핑',\n",
       " '아휴핑',\n",
       " '똑똑핑',\n",
       " '꽁꽁핑',\n",
       " '찌릿핑',\n",
       " '홀로핑',\n",
       " '까르핑',\n",
       " '아야핑',\n",
       " '소원핑',\n",
       " '토닥핑',\n",
       " '쪼꼼핑',\n",
       " '싹싹핑',\n",
       " '맛나핑',\n",
       " '포근핑',\n",
       " '메모핑',\n",
       " '공쥬핑',\n",
       " '짝짝핑',\n",
       " '주네핑',\n",
       " '뚝딱핑',\n",
       " '발레핑',\n",
       " '원더핑',\n",
       " '빨리핑',\n",
       " '얌얌핑',\n",
       " '뜨거핑',\n",
       " '삐뽀핑',\n",
       " '간호핑',\n",
       " '힘내핑',\n",
       " '고쳐핑',\n",
       " '아라핑',\n",
       " '패션핑',\n",
       " '꼼딱핑',\n",
       " '퐁당핑',\n",
       " '파티핑',\n",
       " '꾸며핑',\n",
       " '삐짐핑',\n",
       " '아아핑',\n",
       " '빙글핑',\n",
       " '캔디핑',\n",
       " '머랭핑',\n",
       " '샌드핑',\n",
       " '또너핑',\n",
       " '와플핑',\n",
       " '롤리핑',\n",
       " '마카핑',\n",
       " '핫케핑',\n",
       " '커핑',\n",
       " '머핑',\n",
       " '요거핑',\n",
       " '눈꽃핑',\n",
       " '푸딩핑',\n",
       " '멜로핑',\n",
       " '쪼꼬핑',\n",
       " '뿌뿌핑',\n",
       " '악동핑',\n",
       " '앙대핑',\n",
       " '가면핑',\n",
       " '다해핑',\n",
       " '뿌뿌핑',\n",
       " '트러핑',\n",
       " '스타 하츄핑',\n",
       " '빛나핑',\n",
       " '초롱핑',\n",
       " '빤짝핑',\n",
       " '왕자핑',\n",
       " '오로라핑',\n",
       " '나눔핑',\n",
       " '뽀뽀핑',\n",
       " '루루핑',\n",
       " '댄스핑',\n",
       " '유리핑',\n",
       " '몰래핑',\n",
       " '함께핑',\n",
       " '고핑',\n",
       " '훌라핑',\n",
       " '뿌쵸핑',\n",
       " '여우핑',\n",
       " '깡총핑',\n",
       " '뽀송핑',\n",
       " '고마핑',\n",
       " '아롱핑',\n",
       " '다롱핑',\n",
       " '딩동핑',\n",
       " '나그네핑']"
      ]
     },
     "execution_count": 20,
     "metadata": {},
     "output_type": "execute_result"
    }
   ],
   "source": [
    "new_list"
   ]
  },
  {
   "cell_type": "code",
   "execution_count": 21,
   "metadata": {},
   "outputs": [],
   "source": [
    "df = pd.DataFrame(new_list)"
   ]
  },
  {
   "cell_type": "code",
   "execution_count": 22,
   "metadata": {},
   "outputs": [
    {
     "data": {
      "text/html": [
       "<div>\n",
       "<style scoped>\n",
       "    .dataframe tbody tr th:only-of-type {\n",
       "        vertical-align: middle;\n",
       "    }\n",
       "\n",
       "    .dataframe tbody tr th {\n",
       "        vertical-align: top;\n",
       "    }\n",
       "\n",
       "    .dataframe thead th {\n",
       "        text-align: right;\n",
       "    }\n",
       "</style>\n",
       "<table border=\"1\" class=\"dataframe\">\n",
       "  <thead>\n",
       "    <tr style=\"text-align: right;\">\n",
       "      <th></th>\n",
       "      <th>0</th>\n",
       "    </tr>\n",
       "  </thead>\n",
       "  <tbody>\n",
       "    <tr>\n",
       "      <th>0</th>\n",
       "      <td>하츄핑</td>\n",
       "    </tr>\n",
       "    <tr>\n",
       "      <th>1</th>\n",
       "      <td>바로핑</td>\n",
       "    </tr>\n",
       "    <tr>\n",
       "      <th>2</th>\n",
       "      <td>아자핑</td>\n",
       "    </tr>\n",
       "    <tr>\n",
       "      <th>3</th>\n",
       "      <td>차차핑</td>\n",
       "    </tr>\n",
       "    <tr>\n",
       "      <th>4</th>\n",
       "      <td>라라핑</td>\n",
       "    </tr>\n",
       "  </tbody>\n",
       "</table>\n",
       "</div>"
      ],
      "text/plain": [
       "     0\n",
       "0  하츄핑\n",
       "1  바로핑\n",
       "2  아자핑\n",
       "3  차차핑\n",
       "4  라라핑"
      ]
     },
     "execution_count": 22,
     "metadata": {},
     "output_type": "execute_result"
    }
   ],
   "source": [
    "df.head()"
   ]
  },
  {
   "cell_type": "code",
   "execution_count": 23,
   "metadata": {},
   "outputs": [],
   "source": [
    "# dataframe 저장\n",
    "df.to_csv('티니핑이름_135개.csv',encoding='utf-8',index=False)"
   ]
  },
  {
   "cell_type": "code",
   "execution_count": null,
   "metadata": {},
   "outputs": [],
   "source": [
    "#이미지 크롤링\n",
    "#참고 : https://www.youtube.com/watch?v=j_BW5vNrcxA"
   ]
  },
  {
   "cell_type": "code",
   "execution_count": 113,
   "metadata": {},
   "outputs": [
    {
     "data": {
      "text/plain": [
       "'https://mblogthumb-phinf.pstatic.net/MjAyNDAyMTZfMTIg/MDAxNzA4MDcxMDIzMTQ2.UArePg3FdDPAA0gvtiequbTaiqj-SVPrs4hujwmd-1Ig.44yl-mHXa7baf0Rsc8bipP9w7iYAS9kU9Gk0qgpxik4g.JPEG.cecil122222/IMG_6975.jpg?type=w800'"
      ]
     },
     "execution_count": 113,
     "metadata": {},
     "output_type": "execute_result"
    }
   ],
   "source": [
    "soup.select_one('div.se-module.se-module-image a').img['data-lazy-src']\n",
    "#dload.save(image,f'C:\\python\\pkmon_game\\image\\{i}.png')"
   ]
  },
  {
   "cell_type": "code",
   "execution_count": 118,
   "metadata": {},
   "outputs": [],
   "source": [
    "img_src = soup.select('div.se-module.se-module-image a')"
   ]
  },
  {
   "cell_type": "code",
   "execution_count": 121,
   "metadata": {},
   "outputs": [
    {
     "data": {
      "text/plain": [
       "115"
      ]
     },
     "execution_count": 121,
     "metadata": {},
     "output_type": "execute_result"
    }
   ],
   "source": [
    "len(img_src) #중복 1개(뿌뿌핑) 포함 115개개"
   ]
  },
  {
   "cell_type": "code",
   "execution_count": 139,
   "metadata": {},
   "outputs": [
    {
     "data": {
      "text/plain": [
       "<a class=\"se-module-image-link __se_image_link __se_link\" data-linkdata='{\"id\" : \"SE-4BE29B07-C6EB-45CE-B784-B08EF31E6802\", \"src\" : \"https://mblogthumb-phinf.pstatic.net/MjAyNDAyMTZfMTIg/MDAxNzA4MDcxMDIzMTQ2.UArePg3FdDPAA0gvtiequbTaiqj-SVPrs4hujwmd-1Ig.44yl-mHXa7baf0Rsc8bipP9w7iYAS9kU9Gk0qgpxik4g.JPEG.cecil122222/IMG_6975.jpg\", \"originalWidth\" : \"900\", \"originalHeight\" : \"900\", \"linkUse\" : \"false\", \"link\" : \"\"}' data-linktype=\"img\" href=\"#\" onclick=\"return false;\" style=\"\">\n",
       "<img alt=\"\" class=\"se-image-resource\" data-height=\"900\" data-lazy-src=\"https://mblogthumb-phinf.pstatic.net/MjAyNDAyMTZfMTIg/MDAxNzA4MDcxMDIzMTQ2.UArePg3FdDPAA0gvtiequbTaiqj-SVPrs4hujwmd-1Ig.44yl-mHXa7baf0Rsc8bipP9w7iYAS9kU9Gk0qgpxik4g.JPEG.cecil122222/IMG_6975.jpg?type=w800\" data-width=\"900\" src=\"https://mblogthumb-phinf.pstatic.net/MjAyNDAyMTZfMTIg/MDAxNzA4MDcxMDIzMTQ2.UArePg3FdDPAA0gvtiequbTaiqj-SVPrs4hujwmd-1Ig.44yl-mHXa7baf0Rsc8bipP9w7iYAS9kU9Gk0qgpxik4g.JPEG.cecil122222/IMG_6975.jpg?type=w80_blur\"/>\n",
       "</a>"
      ]
     },
     "execution_count": 139,
     "metadata": {},
     "output_type": "execute_result"
    }
   ],
   "source": [
    "img_src[0]"
   ]
  },
  {
   "cell_type": "code",
   "execution_count": 132,
   "metadata": {},
   "outputs": [],
   "source": [
    "img_data = requests.get(img_src[0].img['data-lazy-src']).content"
   ]
  },
  {
   "cell_type": "code",
   "execution_count": 137,
   "metadata": {},
   "outputs": [
    {
     "data": {
      "text/plain": [
       "'https://mblogthumb-phinf.pstatic.net/MjAyNDAyMTZfMTIg/MDAxNzA4MDcxMDIzMTQ2.UArePg3FdDPAA0gvtiequbTaiqj-SVPrs4hujwmd-1Ig.44yl-mHXa7baf0Rsc8bipP9w7iYAS9kU9Gk0qgpxik4g.JPEG.cecil122222/IMG_6975.jpg?type=w800'"
      ]
     },
     "execution_count": 137,
     "metadata": {},
     "output_type": "execute_result"
    }
   ],
   "source": [
    "img_src[0].img['data-lazy-src']"
   ]
  },
  {
   "cell_type": "code",
   "execution_count": null,
   "metadata": {},
   "outputs": [
    {
     "name": "stdout",
     "output_type": "stream",
     "text": [
      "이미지가 저장되었습니다.\n"
     ]
    }
   ],
   "source": [
    "for index,i in enumerate(img_src):\n",
    "\n",
    "    # 이미지 URL\n",
    "    image_url = i.img['data-lazy-src']\n",
    "    # 이미지 요청\n",
    "    response = requests.get(image_url, stream=True)\n",
    "    response.raise_for_status()  # 요청이 성공했는지 확인\n",
    "\n",
    "    # 파일로 저장\n",
    "    with open(f'{index}.jpg', \"wb\") as out_file:\n",
    "        for chunk in response.iter_content(1024):\n",
    "            out_file.write(chunk)\n",
    "    \n",
    "    time.sleep(0.1)\n",
    "\n",
    "print(\"이미지가 저장되었습니다.\")"
   ]
  }
 ],
 "metadata": {
  "kernelspec": {
   "display_name": "py310",
   "language": "python",
   "name": "python3"
  },
  "language_info": {
   "codemirror_mode": {
    "name": "ipython",
    "version": 3
   },
   "file_extension": ".py",
   "mimetype": "text/x-python",
   "name": "python",
   "nbconvert_exporter": "python",
   "pygments_lexer": "ipython3",
   "version": "3.10.15"
  }
 },
 "nbformat": 4,
 "nbformat_minor": 2
}
